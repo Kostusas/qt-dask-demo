{
 "cells": [
  {
   "cell_type": "markdown",
   "id": "cd377d1a-1318-46f8-9664-3a9d757f9d68",
   "metadata": {
    "tags": []
   },
   "source": [
    "# Dask Quantumtinkerer"
   ]
  },
  {
   "cell_type": "markdown",
   "id": "c329f544-7a37-4bb2-937e-da95d8c23ab9",
   "metadata": {
    "tags": []
   },
   "source": [
    "## Introduction: how to improve the efficiency of our code?"
   ]
  },
  {
   "cell_type": "markdown",
   "id": "a358b805-e290-4cdc-96d8-cfbe09ba8b74",
   "metadata": {},
   "source": [
    "Life is short and despite that we often find ourselves running long, expensive calculations. To speed things up, we can do a few things:\n",
    "* **Parallel** execution - use the cluster!\n",
    "* Compile the code in C. \n",
    "\n",
    "`Numba`/`CPython` allow us to easily convert our python code into C code - we already had a couple of good talks about them. Also, the good old [HPC05](https://gitlab.kwant-project.org/qt/init_hpc05) package allows us to run thing on the cluster."
   ]
  },
  {
   "cell_type": "code",
   "execution_count": null,
   "id": "18b68fbb-8bec-407a-8020-99e294ce0f61",
   "metadata": {},
   "outputs": [],
   "source": [
    "import numpy as np\n",
    "from numba import jit\n",
    "\n",
    "x = np.arange(100).reshape(10, 10)\n",
    "\n",
    "\n",
    "def slow_f(a):\n",
    "    trace = 0.0\n",
    "    for i in range(a.shape[0]):\n",
    "        trace += np.tanh(a[i, i])\n",
    "    return a + trace\n",
    "\n",
    "\n",
    "@jit(nopython=True)  # Set \"nopython\" mode for best performance, equivalent to @njit\n",
    "def fast_f(a):\n",
    "    trace = 0.0\n",
    "    for i in range(a.shape[0]):  # Numba likes loops\n",
    "        trace += np.tanh(a[i, i])  # Numba likes NumPy functions\n",
    "    return a + trace"
   ]
  },
  {
   "cell_type": "code",
   "execution_count": null,
   "id": "a5fc48c4-0080-46b5-b6ba-23896c3ccb81",
   "metadata": {},
   "outputs": [],
   "source": [
    "%%timeit -n 1000\n",
    "slow_f(x)"
   ]
  },
  {
   "cell_type": "code",
   "execution_count": null,
   "id": "56be2e20-17b5-45ee-a033-65824aa36bab",
   "metadata": {},
   "outputs": [],
   "source": [
    "%%timeit -n 1000\n",
    "fast_f(x)"
   ]
  },
  {
   "cell_type": "markdown",
   "id": "b8cf5e7a-c138-46ee-989a-e21617da86d5",
   "metadata": {},
   "source": [
    "See more on [Numba's documentation](https://numba.readthedocs.io/en/stable/user/5minguide.html)."
   ]
  },
  {
   "cell_type": "markdown",
   "id": "7d7b7248-8d78-4ef2-bbb5-9409360b4b4c",
   "metadata": {},
   "source": [
    "There are more ways to increase the efficiency of your calculation:\n",
    "* Splitting data into chunks to efficiently utilize memory.\n",
    "* Asynchronous and parallel I/O.\n",
    "* Dynamic task scheduling.\n",
    "\n",
    "<img src=\"ml-dimensions.png\" alt=\"drawing\" width=\"400\"/>\n",
    "\n",
    "All of these are cool, but require a lot of thinking when designing your code. However, we don't need to think about it - [Dask](https://tutorial.dask.org/00_overview.html) does it all for us!"
   ]
  },
  {
   "cell_type": "markdown",
   "id": "0904adf5-0f31-4095-a8d4-36ed0a8f62b1",
   "metadata": {
    "tags": []
   },
   "source": [
    "## What is Dask?"
   ]
  },
  {
   "cell_type": "markdown",
   "id": "2ae36422-3f5b-4377-93bf-8669ac8690f5",
   "metadata": {
    "tags": []
   },
   "source": [
    "### Parallelisation with `dask.delayed`"
   ]
  },
  {
   "cell_type": "code",
   "execution_count": null,
   "id": "0f3b2584-3d00-440a-9984-67639c99eb32",
   "metadata": {},
   "outputs": [],
   "source": [
    "from time import sleep\n",
    "\n",
    "\n",
    "def inc(x):\n",
    "    sleep(1)\n",
    "    return x + 1\n",
    "\n",
    "\n",
    "def add(x, y):\n",
    "    sleep(1)\n",
    "    return x + y"
   ]
  },
  {
   "cell_type": "code",
   "execution_count": null,
   "id": "2c4b7fab-88a9-4adf-beca-9eb5e7f2fbd6",
   "metadata": {},
   "outputs": [],
   "source": [
    "%%time\n",
    "x = inc(1)\n",
    "y = inc(2)\n",
    "z = add(x, y)"
   ]
  },
  {
   "cell_type": "code",
   "execution_count": null,
   "id": "49d7197f-349d-4bd0-b3ce-47e2dfe58ed5",
   "metadata": {},
   "outputs": [],
   "source": [
    "%%time\n",
    "import dask\n",
    "from dask import delayed\n",
    "\n",
    "x = delayed(inc)(1)\n",
    "y = delayed(inc)(2)\n",
    "z = delayed(add)(x, y)"
   ]
  },
  {
   "cell_type": "code",
   "execution_count": null,
   "id": "6aa1b18e-b76a-41d3-bd61-c6677560a61e",
   "metadata": {},
   "outputs": [],
   "source": [
    "z"
   ]
  },
  {
   "cell_type": "code",
   "execution_count": null,
   "id": "389a157d-99c7-49dc-b176-50fd25ba57dd",
   "metadata": {},
   "outputs": [],
   "source": [
    "%%time\n",
    "z.compute()"
   ]
  },
  {
   "cell_type": "code",
   "execution_count": null,
   "id": "af99c1d4-6ecd-4ae6-9ad8-65ba31df96a3",
   "metadata": {},
   "outputs": [],
   "source": [
    "z.visualize()"
   ]
  },
  {
   "cell_type": "code",
   "execution_count": null,
   "id": "c64c7da6-37ed-40ef-9cdf-ed5a4f2bf590",
   "metadata": {},
   "outputs": [],
   "source": [
    "data = [1, 2, 3, 4, 5, 6, 7, 8]"
   ]
  },
  {
   "cell_type": "code",
   "execution_count": null,
   "id": "74da362d-cd06-44f3-86a0-acb1a69316c7",
   "metadata": {},
   "outputs": [],
   "source": [
    "%%time\n",
    "# Sequential code\n",
    "\n",
    "results = []\n",
    "for x in data:\n",
    "    y = inc(x)\n",
    "    results.append(y)\n",
    "\n",
    "total = sum(results)"
   ]
  },
  {
   "cell_type": "code",
   "execution_count": null,
   "id": "b002edb7-549c-489e-bf04-f7f14f845823",
   "metadata": {},
   "outputs": [],
   "source": [
    "%%time\n",
    "results = []\n",
    "\n",
    "for x in data:\n",
    "    y = delayed(inc)(x)\n",
    "    results.append(y)\n",
    "\n",
    "total = delayed(sum)(results)\n",
    "print(\"Before computing:\", total)  # Let's see what type of thing total is\n",
    "result = total.compute()\n",
    "print(\"After computing :\", result)  # After it's computed"
   ]
  },
  {
   "cell_type": "code",
   "execution_count": null,
   "id": "b719770c-15dd-4f3d-99c6-8ebd3b3bc3e8",
   "metadata": {},
   "outputs": [],
   "source": [
    "total.visualize()"
   ]
  },
  {
   "cell_type": "markdown",
   "id": "57f08993-cd0b-4b9d-b44a-351d91fec098",
   "metadata": {},
   "source": [
    "### Data chunking with `dask.array`"
   ]
  },
  {
   "cell_type": "code",
   "execution_count": null,
   "id": "c8a0611a-1360-480b-b170-64a8284db54c",
   "metadata": {},
   "outputs": [],
   "source": [
    "import dask.array as da"
   ]
  },
  {
   "cell_type": "code",
   "execution_count": null,
   "id": "7507ef40-2603-48a9-b538-11beca009419",
   "metadata": {},
   "outputs": [],
   "source": [
    "x = da.random.normal(10, 0.1, size=(4, 4), chunks=(2, 2))\n",
    "x"
   ]
  },
  {
   "cell_type": "code",
   "execution_count": null,
   "id": "3b76018b-5036-41f6-b905-97085467791a",
   "metadata": {},
   "outputs": [],
   "source": [
    "x[0, 0]"
   ]
  },
  {
   "cell_type": "code",
   "execution_count": null,
   "id": "f89a6fe5-9f5e-4230-81f5-d4026861eb6f",
   "metadata": {},
   "outputs": [],
   "source": [
    "x.mean(axis=1).visualize()"
   ]
  },
  {
   "cell_type": "code",
   "execution_count": null,
   "id": "7a6b43ad-5977-4bfd-973c-16d0b2a00dd4",
   "metadata": {},
   "outputs": [],
   "source": [
    "y = da.random.normal(10, 0.1, size=(4, 4), chunks=(2, 2))"
   ]
  },
  {
   "cell_type": "code",
   "execution_count": null,
   "id": "d1548f36-c4c4-47b0-b567-e74ee0c15465",
   "metadata": {},
   "outputs": [],
   "source": [
    "inv = da.linalg.inv(x @ y)\n",
    "inv.visualize()"
   ]
  },
  {
   "cell_type": "code",
   "execution_count": null,
   "id": "38bf8d08-96ba-460a-b006-2aa17b1a48e7",
   "metadata": {},
   "outputs": [],
   "source": [
    "inv"
   ]
  },
  {
   "cell_type": "markdown",
   "id": "9e41b47e-9f74-424e-944b-87734094ac21",
   "metadata": {},
   "source": [
    "### I/O with chunked data"
   ]
  },
  {
   "cell_type": "markdown",
   "id": "6c42fa03-5944-44b8-bed2-1ca3e23ced24",
   "metadata": {},
   "source": [
    "Dask supports writing and reading chunks in parallel. This means that you never have to load the full data into memory during I/O.\n",
    "\n",
    "The most common file format you'll find using are HDF5, netCDF, zarr."
   ]
  },
  {
   "cell_type": "code",
   "execution_count": null,
   "id": "f844dfd7-3e9b-42bc-8155-e8fba197ef95",
   "metadata": {},
   "outputs": [],
   "source": [
    "inv.to_zarr(\"invere_matrix\", overwrite=True)"
   ]
  },
  {
   "cell_type": "code",
   "execution_count": null,
   "id": "60918913-bb5e-4af2-a1ca-2e74978d765c",
   "metadata": {},
   "outputs": [],
   "source": [
    "loaded_zarr = da.from_zarr(\"invere_matrix\")\n",
    "loaded_zarr.visualize()"
   ]
  },
  {
   "cell_type": "code",
   "execution_count": null,
   "id": "34bdcc29-30ab-4842-a5d8-fe887ed8a533",
   "metadata": {},
   "outputs": [],
   "source": [
    "loaded_zarr.compute()"
   ]
  },
  {
   "cell_type": "markdown",
   "id": "c627eb8c-01f1-428b-8d33-91cc8aa599de",
   "metadata": {},
   "source": [
    "`zarr` works great on io, but it will **not work** when using the cluster (workers can't find the files created by local). For that, we use a messy `HDF5` solution which we will see later."
   ]
  },
  {
   "cell_type": "markdown",
   "id": "5dbc8985-47eb-45e3-9d4a-c624e30b7608",
   "metadata": {},
   "source": [
    "### Messy arrays with `Dask.bag` "
   ]
  },
  {
   "cell_type": "markdown",
   "id": "8e406e2d-3ed4-47fd-a345-d0ad9ef45a5b",
   "metadata": {},
   "source": [
    "Some arrays cannot be converted to `dask.array` object, and that is where `dask.bag` comes in. Dask bags are often used to parallelize simple computations on unstructured or semi-structured data like text data, log files, JSON records, or user defined Python objects.\n",
    "\n",
    "Lets take a look at a piece of code that I often use for applying a function over a mesh of input parameters:"
   ]
  },
  {
   "cell_type": "code",
   "execution_count": null,
   "id": "e5ce147d-bd88-41ba-a1d1-e6765896f867",
   "metadata": {},
   "outputs": [],
   "source": [
    "import itertools as it\n",
    "from random import random\n",
    "\n",
    "import dask.bag as db\n",
    "\n",
    "\n",
    "def f(x, y, calc_type=\"coarse\"):\n",
    "    x = float(x)\n",
    "    y = float(y)\n",
    "    sleep(random())\n",
    "    if calc_type == \"clean\":\n",
    "        a = 0.2\n",
    "    if calc_type == \"coarse\":\n",
    "        a = 0.6\n",
    "    return x + np.exp(-((x ** 2 + y ** 2 - 0.75 ** 2) ** 2) / a ** 4), 1\n",
    "\n",
    "\n",
    "N = 2\n",
    "params = {\n",
    "    \"x\": np.linspace(-1.0, 1.0, N),\n",
    "    \"y\": np.linspace(-1.0, 1.0, N),\n",
    "    \"calc_type\": [\"coarse\", \"clean\"],\n",
    "}"
   ]
  },
  {
   "cell_type": "code",
   "execution_count": null,
   "id": "3a1eb3da-9316-4973-ad4b-902b34c4bad4",
   "metadata": {},
   "outputs": [],
   "source": [
    "values = list(params.values())\n",
    "args = np.array(list(it.product(*values)))"
   ]
  },
  {
   "cell_type": "code",
   "execution_count": null,
   "id": "69a3c09d-a5bd-4ba9-b91e-ac0b96ae0439",
   "metadata": {},
   "outputs": [],
   "source": [
    "values"
   ]
  },
  {
   "cell_type": "code",
   "execution_count": null,
   "id": "c5b9c14a-3544-4194-a057-2d2654a1a0ab",
   "metadata": {},
   "outputs": [],
   "source": [
    "args"
   ]
  },
  {
   "cell_type": "code",
   "execution_count": null,
   "id": "c8e8041a-f3f5-4a60-9d73-c3b352bacc04",
   "metadata": {},
   "outputs": [],
   "source": [
    "def wrapped_fn(args):\n",
    "    return f(*args)"
   ]
  },
  {
   "cell_type": "code",
   "execution_count": null,
   "id": "fb32eb9a-86c0-496c-b170-afff93af2cc7",
   "metadata": {},
   "outputs": [],
   "source": [
    "args_db = db.from_sequence(args, partition_size=2)"
   ]
  },
  {
   "cell_type": "code",
   "execution_count": null,
   "id": "3d4f0dd1-f10f-47e8-8d53-76848d071971",
   "metadata": {},
   "outputs": [],
   "source": [
    "args_db.visualize()"
   ]
  },
  {
   "cell_type": "code",
   "execution_count": null,
   "id": "67155e4d-3daf-4b6c-97ed-0ba91a4926e3",
   "metadata": {},
   "outputs": [],
   "source": [
    "args_db.compute()"
   ]
  },
  {
   "cell_type": "code",
   "execution_count": null,
   "id": "ddf22fce-456f-4ec4-a161-7e9b02a80c69",
   "metadata": {},
   "outputs": [],
   "source": [
    "result = args_db.map(wrapped_fn)"
   ]
  },
  {
   "cell_type": "code",
   "execution_count": null,
   "id": "20f00949-048b-4f55-9842-66f64c9b93f2",
   "metadata": {},
   "outputs": [],
   "source": [
    "result.visualize()"
   ]
  },
  {
   "cell_type": "code",
   "execution_count": null,
   "id": "c3efe89d-8206-4850-966f-2b34bb896dd2",
   "metadata": {},
   "outputs": [],
   "source": [
    "result.compute()"
   ]
  },
  {
   "cell_type": "markdown",
   "id": "22d4bc58-5eb8-494a-af5f-503c1221ed19",
   "metadata": {},
   "source": [
    "Dask can also convert things into panda's dataframe object which are dask compatible (i.e. lazy execution)."
   ]
  },
  {
   "cell_type": "code",
   "execution_count": null,
   "id": "a89898a4-34f9-40d4-90b4-326e4bf4dd79",
   "metadata": {},
   "outputs": [],
   "source": [
    "result.to_dataframe()"
   ]
  },
  {
   "cell_type": "code",
   "execution_count": null,
   "id": "293ccaed-9ee4-45ab-8a96-d2c7c4c8bf2e",
   "metadata": {},
   "outputs": [],
   "source": [
    "result.to_dataframe().compute()"
   ]
  },
  {
   "cell_type": "markdown",
   "id": "1e44d09d-add1-4732-824e-1c3291525e6f",
   "metadata": {},
   "source": [
    "I use the dask pandas dataframe to utilize its `to_hdf` function which writes files asynchronously and in parallel"
   ]
  },
  {
   "cell_type": "code",
   "execution_count": null,
   "id": "7a47ab9e-30d0-4474-b5dd-3235dc2d5800",
   "metadata": {},
   "outputs": [],
   "source": [
    "result.to_dataframe().to_hdf(\"bag_demo/data*\", \"group\")"
   ]
  },
  {
   "cell_type": "code",
   "execution_count": null,
   "id": "2828c136-12e4-43c7-b5c0-5ecb0aa13138",
   "metadata": {},
   "outputs": [],
   "source": [
    "result_loaded = dask.dataframe.read_hdf(\"bag_demo/data*\", \"group\")"
   ]
  },
  {
   "cell_type": "code",
   "execution_count": null,
   "id": "422cb934-afbd-4af1-9e3c-837540cba08d",
   "metadata": {},
   "outputs": [],
   "source": [
    "result_loaded.visualize()"
   ]
  },
  {
   "cell_type": "code",
   "execution_count": null,
   "id": "7339f758-5cbd-4384-a5fe-e0d3de57c597",
   "metadata": {},
   "outputs": [],
   "source": [
    "result_loaded.compute()"
   ]
  },
  {
   "cell_type": "markdown",
   "id": "55f6f424-faaf-4fa1-9003-aadbb7104030",
   "metadata": {
    "tags": []
   },
   "source": [
    "## Using the cluster with `dask_quantumtinkerer`"
   ]
  },
  {
   "cell_type": "markdown",
   "id": "dcb80b07-f7fa-4885-9da7-3a05af0c4382",
   "metadata": {
    "tags": []
   },
   "source": [
    "### Prerequisites\n",
    "1. You must be able to ssh hpc05 without a password ([detailed instructions here](https://gitlab.kwant-project.org/qt/cookbook/-/blob/master/hpc05/README.md)).\n",
    "2. On IO, uncomment all lines in the file~/.config/dask/quantumtinkerer.yaml (it should appear automatically, if not -- restart your Jupyterhub notebook) and edit the gateway_port option. This is a TCP port number), that must be unique for you. A random number between 10000 and 40000 should be good.\n",
    "3. Restart your notebook."
   ]
  },
  {
   "cell_type": "code",
   "execution_count": null,
   "id": "4000d2b3-9f5e-4dcd-841d-ec64ab1aa80a",
   "metadata": {},
   "outputs": [],
   "source": [
    "from dask_quantumtinkerer import Cluster, cluster_options"
   ]
  },
  {
   "cell_type": "code",
   "execution_count": null,
   "id": "11cfa3d1-1a55-43b2-a8e3-4c6ead9529aa",
   "metadata": {},
   "outputs": [],
   "source": [
    "options = cluster_options()\n",
    "options"
   ]
  },
  {
   "cell_type": "code",
   "execution_count": null,
   "id": "262c8fe6-8b51-488b-9ab5-bddd56209c96",
   "metadata": {},
   "outputs": [],
   "source": [
    "options.worker_cores = 1  # you should always leave this to 1 (I think)\n",
    "options.worker_memory = 2  # Need to atdjust this to meet your needs\n",
    "options.extra_path = \"/home/kostasvilkelis/work/qt-dask-demo/\"  # Make sure to do this if you import any local modules!"
   ]
  },
  {
   "cell_type": "markdown",
   "id": "e3280dd1-099d-451d-9f40-dbb9aa474729",
   "metadata": {},
   "source": [
    "To utilize local modules imported in this notebook, you need to specify the path in hpc05 to the import.\n",
    "Make sure to sync your code on io and hpc05 (through git)!"
   ]
  },
  {
   "cell_type": "code",
   "execution_count": null,
   "id": "620058d3-9154-40d1-a167-d8164ea32b62",
   "metadata": {},
   "outputs": [],
   "source": [
    "cluster = Cluster(options)\n",
    "cluster"
   ]
  },
  {
   "cell_type": "markdown",
   "id": "d01357cb-e7d6-4dca-bfec-68f9e374e0a6",
   "metadata": {},
   "source": [
    "We can use the dashboard to monitor the progress of the calculation and obtain valuable information (we shall see that later).\n",
    "\n",
    "To access it, take the `8000/clusters/.../status` part from above dashboard link and combine it with io proxy link as shown below:"
   ]
  },
  {
   "cell_type": "code",
   "execution_count": null,
   "id": "4934edb0-68bb-4f20-a94f-008f00b48790",
   "metadata": {},
   "outputs": [],
   "source": [
    "print(\n",
    "    \"http://io.quantumtinkerer.tudelft.nl/user/Kostas/proxy/\"\n",
    "    + cluster.dashboard_link[17:]\n",
    ")"
   ]
  },
  {
   "cell_type": "markdown",
   "id": "f708a386-36f3-4275-ba62-6d58a5764d2b",
   "metadata": {},
   "source": [
    "We have logged into the cluster, however, we still have no workers connected. There are two ways to connect/scale the workers:\n",
    "* **Manual scaling**: you connect to a fixed number of workers right until you disconnect from the cluster.\n",
    "* **Adaptive scaling**: workers scale adaptively based on the calculation you are running."
   ]
  },
  {
   "cell_type": "code",
   "execution_count": null,
   "id": "f1a8e98a-20a7-455c-bea0-1ea1e85a2d0d",
   "metadata": {},
   "outputs": [],
   "source": [
    "cluster.scale(10)"
   ]
  },
  {
   "cell_type": "code",
   "execution_count": null,
   "id": "78bf6992-8f81-482f-aa97-edecba9f6109",
   "metadata": {},
   "outputs": [],
   "source": [
    "cluster.adapt(minimum=0, maximum=10)"
   ]
  },
  {
   "cell_type": "code",
   "execution_count": null,
   "id": "0ee8a821-041a-44e0-acc6-25e4a4b7ec29",
   "metadata": {},
   "outputs": [],
   "source": [
    "import time\n",
    "\n",
    "\n",
    "@delayed\n",
    "def do_nothing(x):\n",
    "    time.sleep(5)\n",
    "    return x\n",
    "\n",
    "\n",
    "x = da.concatenate(\n",
    "    [da.from_delayed(do_nothing(i), shape=(1,), dtype=int) for i in range(10)]\n",
    ")"
   ]
  },
  {
   "cell_type": "code",
   "execution_count": null,
   "id": "01d33828-13aa-4621-867f-a48cee793e0a",
   "metadata": {},
   "outputs": [],
   "source": [
    "x.visualize()"
   ]
  },
  {
   "cell_type": "code",
   "execution_count": null,
   "id": "239cbe10-8f25-48d1-8692-219a975b2ea1",
   "metadata": {},
   "outputs": [],
   "source": [
    "x.compute()"
   ]
  },
  {
   "cell_type": "markdown",
   "id": "46ad07db-9b0e-47ff-93df-fb9940e9d8c9",
   "metadata": {},
   "source": [
    "In order to utilize the cluster, we need to run the `cluster.get_client()` command. This makes it so that all subsequent calls for `compute()` or `persist()` get transferred over to the cluster"
   ]
  },
  {
   "cell_type": "code",
   "execution_count": null,
   "id": "4049d09a-678a-4e55-8d96-5507a470787e",
   "metadata": {},
   "outputs": [],
   "source": [
    "client = cluster.get_client()"
   ]
  },
  {
   "cell_type": "code",
   "execution_count": null,
   "id": "ba5a084e-518c-4eba-b388-8b2d843e492b",
   "metadata": {},
   "outputs": [],
   "source": [
    "x.compute()"
   ]
  },
  {
   "cell_type": "markdown",
   "id": "0d106123-4d83-4677-8152-6816187ae27e",
   "metadata": {},
   "source": [
    "The other command I mentioned, `persist()`, is the same as compute, only difference is that after calculations it leaves the data distributed all over the workers."
   ]
  },
  {
   "cell_type": "code",
   "execution_count": null,
   "id": "38e27b38-e539-4daf-a887-451e4604b521",
   "metadata": {},
   "outputs": [],
   "source": [
    "x_distr = x.persist()"
   ]
  },
  {
   "cell_type": "code",
   "execution_count": null,
   "id": "8f7ae073-d9a4-4d07-9be9-50fe6c17d40d",
   "metadata": {},
   "outputs": [],
   "source": [
    "x_distr"
   ]
  },
  {
   "cell_type": "code",
   "execution_count": null,
   "id": "b7d4693e-4fdc-455c-8c4b-9465ba15fe35",
   "metadata": {},
   "outputs": [],
   "source": [
    "x_distr.visualize()"
   ]
  },
  {
   "cell_type": "code",
   "execution_count": null,
   "id": "bce1afb0-3ae5-4751-8a26-7e5ee21e5cac",
   "metadata": {},
   "outputs": [],
   "source": [
    "cluster.close()"
   ]
  },
  {
   "cell_type": "markdown",
   "id": "d6c45349-778d-43f7-89b6-ecf21f0f8e44",
   "metadata": {},
   "source": [
    "Some things you **need** to make sure of before running the calculation:\n",
    "\n",
    "* Worker Memory $>$ Single Chunk memory requirements (+account for memory usage from the task itself)\n",
    "\n",
    "* #Cores  $\\leq$ #Chunks \n",
    "\n",
    "*  Chunk Size s.t. Task on that chunk takes $\\geq$ 100ms"
   ]
  },
  {
   "cell_type": "markdown",
   "id": "4e3a029d-b6f7-4f88-b0ee-91d5ff6a1d1c",
   "metadata": {
    "tags": []
   },
   "source": [
    "## Walktrough example: Calculation, storage, analysis"
   ]
  },
  {
   "cell_type": "markdown",
   "id": "412f9b0e-aab7-460a-abdd-a3b36b5b5152",
   "metadata": {
    "tags": []
   },
   "source": [
    "### Adaptive Integration"
   ]
  },
  {
   "cell_type": "code",
   "execution_count": null,
   "id": "a70b167b-ebbf-4c41-bcaf-199f20fa758f",
   "metadata": {},
   "outputs": [],
   "source": [
    "import itertools as it\n",
    "from random import random\n",
    "from time import sleep\n",
    "\n",
    "import dask\n",
    "import dask.array as da\n",
    "import dask.bag as db\n",
    "import dask.dataframe as df\n",
    "import numpy as np\n",
    "from dask_quantumtinkerer import Cluster, cluster_options"
   ]
  },
  {
   "cell_type": "code",
   "execution_count": null,
   "id": "393ac219-1d06-42ca-963d-c8fd3e066d29",
   "metadata": {},
   "outputs": [],
   "source": [
    "import adaptive\n",
    "\n",
    "adaptive.notebook_extension()"
   ]
  },
  {
   "cell_type": "code",
   "execution_count": null,
   "id": "8e1ba82f-15ee-4409-aaba-b31717667fe8",
   "metadata": {},
   "outputs": [],
   "source": [
    "def ring(xy, wait=True):\n",
    "    if wait:\n",
    "        sleep(random() / 10)\n",
    "    x, y = xy\n",
    "    a = 0.2\n",
    "    return x + np.exp(-((x ** 2 + y ** 2 - 0.75 ** 2) ** 2) / a ** 4)"
   ]
  },
  {
   "cell_type": "code",
   "execution_count": null,
   "id": "274d1488-4d3e-4933-a430-58fcae525907",
   "metadata": {},
   "outputs": [],
   "source": [
    "options = cluster_options()\n",
    "options.worker_memory = 0.25\n",
    "options.extra_path = \"/home/kostasvilkelis/work/qt-dask-demo/\"\n",
    "\n",
    "\n",
    "cluster = Cluster(options)  # ADAPTIVE REQUIRES MANUAL CORE SCALING!\n",
    "cluster.scale(10)\n",
    "print(\n",
    "    \"http://io.quantumtinkerer.tudelft.nl/user/Kostas/proxy/\"\n",
    "    + cluster.dashboard_link[17:]\n",
    ")"
   ]
  },
  {
   "cell_type": "code",
   "execution_count": null,
   "id": "55b95992-4177-4748-a2a8-dca469e0b5c0",
   "metadata": {},
   "outputs": [],
   "source": [
    "client = cluster.get_client()"
   ]
  },
  {
   "cell_type": "code",
   "execution_count": null,
   "id": "c3e94467-9fa4-45d0-8106-a341d261dad0",
   "metadata": {},
   "outputs": [],
   "source": [
    "learner = adaptive.Learner2D(ring, bounds=[(-1, 1), (-1, 1)])"
   ]
  },
  {
   "cell_type": "code",
   "execution_count": null,
   "id": "6bd1dc37-dfa4-443d-a5e9-2b5e3a2d3972",
   "metadata": {},
   "outputs": [],
   "source": [
    "runner = adaptive.Runner(learner, executor=client, goal=lambda l: l.loss() < 0.01)"
   ]
  },
  {
   "cell_type": "code",
   "execution_count": null,
   "id": "1db02d77-1f25-425b-876c-bcf30036e693",
   "metadata": {},
   "outputs": [],
   "source": [
    "runner.live_info()"
   ]
  },
  {
   "cell_type": "code",
   "execution_count": null,
   "id": "fdfb53e4-d719-44ea-a4cf-5cd29e0fd4c0",
   "metadata": {},
   "outputs": [],
   "source": [
    "def plot(learner):\n",
    "    plot = learner.plot(tri_alpha=0.2)\n",
    "    return (plot.Image + plot.EdgePaths.I + plot).cols(2)\n",
    "\n",
    "\n",
    "runner.live_plot(plotter=plot, update_interval=0.1)"
   ]
  },
  {
   "cell_type": "markdown",
   "id": "59c17ff7-6345-41fd-97a7-4cd1f05cde2c",
   "metadata": {
    "tags": []
   },
   "source": [
    "### Sampling on a mesh and saving data"
   ]
  },
  {
   "cell_type": "code",
   "execution_count": null,
   "id": "d3f93020-0586-4939-b210-f3ceb525fc90",
   "metadata": {},
   "outputs": [],
   "source": [
    "def f(x, y, a):\n",
    "    x = float(x)\n",
    "    y = float(y)\n",
    "    a = float(a)\n",
    "    sleep(0.5)\n",
    "    return x + np.exp(-((x ** 2 + y ** 2 - 0.75 ** 2) ** 2) / a ** 4), 1.0\n",
    "\n",
    "\n",
    "N = 20\n",
    "params = {\n",
    "    \"x\": np.linspace(-1.0, 1.0, N),\n",
    "    \"y\": np.linspace(-1.0, 1.0, N),\n",
    "    \"a\": np.array([0.2, 0.6]),\n",
    "}\n",
    "\n",
    "\n",
    "values = list(params.values())\n",
    "args = np.array(list(it.product(*values)))\n",
    "\n",
    "\n",
    "def wrapped_fn(args):\n",
    "    return f(*args)"
   ]
  },
  {
   "cell_type": "code",
   "execution_count": null,
   "id": "19388ca1-ce9c-4309-8e32-e172981d9b31",
   "metadata": {},
   "outputs": [],
   "source": [
    "baged_input = db.from_sequence(args, partition_size=1)"
   ]
  },
  {
   "cell_type": "code",
   "execution_count": null,
   "id": "0a75fa7d-7e49-4ecd-9dc3-9389a0edf862",
   "metadata": {},
   "outputs": [],
   "source": [
    "client = cluster.get_client()\n",
    "baged_input.map(wrapped_fn).to_dataframe().to_hdf(\n",
    "    \"/home/kostasvilkelis/work/qt-dask-demo/cluster_demo/temp_data*\", \"group\", mode=\"w\"\n",
    ");"
   ]
  },
  {
   "cell_type": "code",
   "execution_count": null,
   "id": "d0d7510c-7fd7-42e4-a4cc-1287123f2078",
   "metadata": {},
   "outputs": [],
   "source": [
    "cluster.close()"
   ]
  },
  {
   "cell_type": "markdown",
   "id": "8487b429-844d-4309-bc1a-561e810a908e",
   "metadata": {
    "tags": []
   },
   "source": [
    "### Same thing, but less code"
   ]
  },
  {
   "cell_type": "code",
   "execution_count": null,
   "id": "6a058de9-2c78-49f8-b298-29954695c584",
   "metadata": {},
   "outputs": [],
   "source": [
    "from time import sleep\n",
    "\n",
    "import numpy as np\n",
    "from dask_io import dask_io"
   ]
  },
  {
   "cell_type": "code",
   "execution_count": null,
   "id": "197b7bb1-1af7-48e9-ac69-10f6344ac7e6",
   "metadata": {},
   "outputs": [],
   "source": [
    "def f(x, y, a):\n",
    "    sleep(0.5)\n",
    "    return x + np.exp(-((x ** 2 + y ** 2 - 0.75 ** 2) ** 2) / a ** 4), 1\n",
    "\n",
    "\n",
    "N = 20\n",
    "params = {\n",
    "    \"x\": np.linspace(-1.0, 1.0, N),\n",
    "    \"y\": np.linspace(-1.0, 1.0, N),\n",
    "    \"a\": np.array([0.2, 0.6]),\n",
    "}\n",
    "\n",
    "output_dir = \"cluster_demo_clean/\""
   ]
  },
  {
   "cell_type": "code",
   "execution_count": null,
   "id": "6e904ec9-9d83-49c0-bf81-a4fa35a42385",
   "metadata": {},
   "outputs": [],
   "source": [
    "calc = dask_io(f, params, output_dir)\n",
    "calc.cluster_calc(worker_memory=0.3, nodes=10, partition_size=2)"
   ]
  },
  {
   "cell_type": "markdown",
   "id": "d5aefa97-eb6b-4392-b04e-6f33840aff63",
   "metadata": {
    "tags": []
   },
   "source": [
    "### Storing and viewing data with `xarray` and `holoviews`"
   ]
  },
  {
   "cell_type": "markdown",
   "id": "ceaa308a-31d6-4fde-a4bb-5da4027fa055",
   "metadata": {},
   "source": [
    "`HDF5` format is nice, but is messy and doesn't provide a straightforward way to provide metadata/parameters. That is where [xarray](http://xarray.pydata.org/en/stable/) comes in! It is essentially pandas for multidimensional data."
   ]
  },
  {
   "cell_type": "code",
   "execution_count": null,
   "id": "b0fb2019-dd56-4457-baf9-de9c998c1d0f",
   "metadata": {},
   "outputs": [],
   "source": [
    "import xarray as xr"
   ]
  },
  {
   "cell_type": "code",
   "execution_count": null,
   "id": "fb5e2dcd-e2a3-49f9-bcc7-8292e817f681",
   "metadata": {},
   "outputs": [],
   "source": [
    "xr_data = calc.to_xr()"
   ]
  },
  {
   "cell_type": "code",
   "execution_count": null,
   "id": "d93a1b0f-8205-4e50-a75f-3593cb6a3fb3",
   "metadata": {},
   "outputs": [],
   "source": [
    "xr_data"
   ]
  },
  {
   "cell_type": "code",
   "execution_count": null,
   "id": "3f844680-5bd7-4950-982c-42d97625ff54",
   "metadata": {},
   "outputs": [],
   "source": [
    "xr_computed = xr_data.compute()"
   ]
  },
  {
   "cell_type": "code",
   "execution_count": null,
   "id": "13fea877-e4e3-401d-bea3-61ac24489955",
   "metadata": {},
   "outputs": [],
   "source": [
    "xr_computed"
   ]
  },
  {
   "cell_type": "markdown",
   "id": "4cd761f3-26e2-4743-99bf-7da6afdc1c86",
   "metadata": {},
   "source": [
    "For more on how to use xarray, I refer you to the tutorial notebook made by Bas [here](https://gist.github.com/basnijholt/a3a91fb919aa500b940f51e3d9890bd9).\n",
    "\n",
    "The good thing about `xarray` is that is it compatible with [holoviews](https://holoviews.org/)!"
   ]
  },
  {
   "cell_type": "code",
   "execution_count": null,
   "id": "5a3085b1-f9dd-4ecf-a670-9a61406c9ee7",
   "metadata": {},
   "outputs": [],
   "source": [
    "%matplotlib inline\n",
    "import holoviews as hv\n",
    "from holoviews import opts\n",
    "\n",
    "hv.extension(\"matplotlib\")"
   ]
  },
  {
   "cell_type": "code",
   "execution_count": null,
   "id": "c069bc53-4b30-432e-9180-031f457029ab",
   "metadata": {},
   "outputs": [],
   "source": [
    "hv_data = hv.Dataset(xr_computed)"
   ]
  },
  {
   "cell_type": "code",
   "execution_count": null,
   "id": "2325996c-4f0f-40b4-a05e-b344a7ba3e00",
   "metadata": {},
   "outputs": [],
   "source": [
    "dmap = (\n",
    "    hv_data.to(hv.Image, kdims=[\"x\", \"y\"], dynamic=True)\n",
    "    .opts(cmap=\"viridis\")\n",
    "    .opts(plot=dict(colorbar=True, fig_size=200, aspect=\"square\"))\n",
    ")\n",
    "dmap"
   ]
  },
  {
   "cell_type": "code",
   "execution_count": null,
   "id": "96f2f202-6954-4502-9bfc-6f0ea0f4c4f9",
   "metadata": {},
   "outputs": [],
   "source": [
    "dmap = hv_data.to(hv.Curve, kdims=[\"x\"], dynamic=True)\n",
    "dmap"
   ]
  },
  {
   "cell_type": "markdown",
   "id": "7d759738-354a-420b-a0f2-88256fee684d",
   "metadata": {
    "jp-MarkdownHeadingCollapsed": true,
    "tags": []
   },
   "source": [
    "### Sampling on a mesh and saving data (not working :| )"
   ]
  },
  {
   "cell_type": "code",
   "execution_count": null,
   "id": "260713b6-7882-43a6-aa33-7d92d2429674",
   "metadata": {},
   "outputs": [],
   "source": [
    "def f(x, y, a):\n",
    "    sleep(5 * random())\n",
    "    return x + np.exp(-((x ** 2 + y ** 2 - 0.75 ** 2) ** 2) / a ** 4)\n",
    "\n",
    "\n",
    "N = 40\n",
    "params = {\n",
    "    \"x\": np.linspace(-1.0, 1.0, N),\n",
    "    \"y\": np.linspace(-1.0, 1.0, N),\n",
    "    \"a\": np.array([0.2, 0.6]),\n",
    "}\n",
    "\n",
    "\n",
    "values = list(params.values())\n",
    "args = np.array(list(it.product(*values)))\n",
    "shapes = [len(values[i]) for i in range(len(values))]\n",
    "\n",
    "\n",
    "def wrapped_fn(args):\n",
    "    return f(*args)"
   ]
  },
  {
   "cell_type": "code",
   "execution_count": null,
   "id": "a2365d9d-d167-44cf-94a3-b05aee07936e",
   "metadata": {},
   "outputs": [],
   "source": [
    "da_args = da.from_array(args.T, chunks=(3, 100))\n",
    "results = da_args.map_blocks(wrapped_fn, dtype=float, drop_axis=0)"
   ]
  },
  {
   "cell_type": "code",
   "execution_count": null,
   "id": "ebc12d6c-ca5d-49ff-95a3-f10a49f3892b",
   "metadata": {},
   "outputs": [],
   "source": [
    "results"
   ]
  },
  {
   "cell_type": "code",
   "execution_count": null,
   "id": "f7405e2b-1814-4c81-a796-9e9a9b4d782b",
   "metadata": {},
   "outputs": [],
   "source": [
    "df.from_dask_array(results).to_hdf(\n",
    "    \"/home/kostasvilkelis/work/qt-dask-demo/ring/temp_data*\", \"key\", mode=\"w\"\n",
    ")"
   ]
  },
  {
   "cell_type": "code",
   "execution_count": null,
   "id": "fa1a6330-d6a4-4d94-ad6b-ff5fa3b48c0d",
   "metadata": {},
   "outputs": [],
   "source": [
    "cluster.close()"
   ]
  },
  {
   "cell_type": "code",
   "execution_count": null,
   "id": "22fde898-5376-4d2e-9852-b97d647859c3",
   "metadata": {},
   "outputs": [],
   "source": [
    "load_data = (\n",
    "    dask.dataframe.read_hdf(\"ring/temp_data*\", \"key\")\n",
    "    .to_dask_array(lengths=True)\n",
    "    .reshape(shapes)\n",
    ")"
   ]
  },
  {
   "cell_type": "code",
   "execution_count": null,
   "id": "a2d02f1b-758e-4aff-83fe-02e1ad642b86",
   "metadata": {},
   "outputs": [],
   "source": [
    "# shaped_data = da.reshape(load_data, shapes)"
   ]
  },
  {
   "cell_type": "code",
   "execution_count": null,
   "id": "3a0c016c-abb8-452e-8fc6-571a1d83dbaa",
   "metadata": {},
   "outputs": [],
   "source": [
    "# shaped_data"
   ]
  },
  {
   "cell_type": "code",
   "execution_count": null,
   "id": "797fce29-adf3-4490-8c88-29c5588383bf",
   "metadata": {},
   "outputs": [],
   "source": [
    "import xarray as xr"
   ]
  },
  {
   "cell_type": "code",
   "execution_count": null,
   "id": "797a7039-f93f-493d-b2dd-b797bacd5b4a",
   "metadata": {},
   "outputs": [],
   "source": [
    "xr_array = xr.DataArray(\n",
    "    data=shaped_data,\n",
    "    dims=params.keys(),\n",
    "    coords=params,\n",
    "    attrs={\"description\": \"Ring Example\"},\n",
    ")"
   ]
  },
  {
   "cell_type": "code",
   "execution_count": null,
   "id": "2087075c-e0ae-4fa1-adee-7bca03fc9c62",
   "metadata": {},
   "outputs": [],
   "source": [
    "xr_array.to_netcdf(\"xarray_results\")"
   ]
  },
  {
   "cell_type": "code",
   "execution_count": null,
   "id": "94657fde-8b57-40e5-be5c-27818a65975d",
   "metadata": {},
   "outputs": [],
   "source": [
    "%matplotlib inline\n",
    "import holoviews as hv\n",
    "from holoviews import opts\n",
    "\n",
    "hv.extension(\"matplotlib\")"
   ]
  },
  {
   "cell_type": "code",
   "execution_count": null,
   "id": "6d4805fb-aa2b-43d7-86d0-c8fe9eb45a10",
   "metadata": {},
   "outputs": [],
   "source": [
    "xr_dataset = xr.open_dataset(\"xarray_results\")"
   ]
  },
  {
   "cell_type": "code",
   "execution_count": null,
   "id": "8bcce725-971a-42df-9707-01617a6496c7",
   "metadata": {},
   "outputs": [],
   "source": [
    "hv_data = hv.Dataset(xr_dataset)"
   ]
  },
  {
   "cell_type": "code",
   "execution_count": null,
   "id": "97a2a6ae-fe37-47a6-a569-c54998bbe1b3",
   "metadata": {},
   "outputs": [],
   "source": [
    "dmap = (\n",
    "    hv_data.to(hv.Image, kdims=[\"x\", \"y\"], dynamic=True)\n",
    "    .opts(cmap=\"viridis\")\n",
    "    .opts(plot=dict(colorbar=True, fig_size=200, aspect=\"square\"))\n",
    ")\n",
    "dmap"
   ]
  },
  {
   "cell_type": "code",
   "execution_count": null,
   "id": "33fc1b00-2431-4562-94de-5738e89ecf8c",
   "metadata": {},
   "outputs": [],
   "source": [
    "dmap = hv_data.to(hv.Curve, kdims=[\"x\"], dynamic=True)\n",
    "dmap"
   ]
  }
 ],
 "metadata": {
  "kernelspec": {
   "display_name": "Python 3 (ipykernel)",
   "language": "python",
   "name": "python3"
  },
  "language_info": {
   "codemirror_mode": {
    "name": "ipython",
    "version": 3
   },
   "file_extension": ".py",
   "mimetype": "text/x-python",
   "name": "python",
   "nbconvert_exporter": "python",
   "pygments_lexer": "ipython3",
   "version": "3.9.6"
  }
 },
 "nbformat": 4,
 "nbformat_minor": 5
}
